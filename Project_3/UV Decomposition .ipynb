{
 "cells": [
  {
   "cell_type": "code",
   "execution_count": 1,
   "metadata": {
    "collapsed": true
   },
   "outputs": [],
   "source": [
    "\n",
    "import pandas as pd\n",
    "import numpy as np\n"
   ]
  },
  {
   "cell_type": "code",
   "execution_count": 30,
   "metadata": {
    "collapsed": false
   },
   "outputs": [
    {
     "name": "stdout",
     "output_type": "stream",
     "text": [
      "[[  5.   2.   4.   4.   3.]\n",
      " [  3.   1.   2.   4.   1.]\n",
      " [  2.  nan   3.   1.   4.]\n",
      " [  2.   5.   4.   3.   5.]\n",
      " [  4.   4.   5.   4.  nan]]\n",
      "[ 4.  4.  1.  0.  4.]\n",
      "[  3.   1.   4.   5.  nan]\n"
     ]
    }
   ],
   "source": [
    "## Reading a test matrix:\n",
    "M = np.array([[5,2,4,4,3],[3,1,2,4,1],[2,np.nan,3,1,4],[2,5,4,3,5],[4,4,5,4,np.nan]])\n",
    "print M\n",
    "t= M[:,3].copy()\n",
    "t[3] = 0\n",
    "print t\n",
    "print M[:,4]"
   ]
  },
  {
   "cell_type": "code",
   "execution_count": 31,
   "metadata": {
    "collapsed": false
   },
   "outputs": [
    {
     "name": "stdout",
     "output_type": "stream",
     "text": [
      "U:\n",
      "[[ 1.  1.]\n",
      " [ 1.  1.]\n",
      " [ 1.  1.]\n",
      " [ 1.  1.]\n",
      " [ 1.  1.]]\n",
      "V:\n",
      "[[ 1.  1.  1.  1.  1.]\n",
      " [ 1.  1.  1.  1.  1.]]\n"
     ]
    }
   ],
   "source": [
    "U = np.ones((5,2),dtype=np.float)\n",
    "V = np.ones((2,5),dtype=np.float)\n",
    "print \"U:\\n{}\".format(U)\n",
    "print \"V:\\n{}\".format(V)\n",
    "#U[:,1:]"
   ]
  },
  {
   "cell_type": "code",
   "execution_count": 54,
   "metadata": {
    "collapsed": false
   },
   "outputs": [
    {
     "data": {
      "text/plain": [
       "3.2608695652173911"
      ]
     },
     "execution_count": 54,
     "metadata": {},
     "output_type": "execute_result"
    }
   ],
   "source": [
    "#np.linalg.pinv(np.dot(V,V.T))\n",
    "def array_sq(l):\n",
    "    return np.dot(l,l.T)\n",
    "np.apply_along_axis(array_sq,1,V)\n",
    "np.nanmean(np.square(M - np.dot(U,V)))"
   ]
  },
  {
   "cell_type": "code",
   "execution_count": 114,
   "metadata": {
    "collapsed": false
   },
   "outputs": [
    {
     "name": "stdout",
     "output_type": "stream",
     "text": [
      "V_s:[ 1.  1.  1.  1.  1.]\n",
      "M_r:[ 5.  2.  4.  4.  3.]\n",
      "U_r:[ 0.  1.]\n",
      "V_r:[ 0.  1.]\n",
      "M_r:[ 4.  1.  3.  3.  2.]\n",
      "[[  5.   2.   4.   4.   3.]\n",
      " [  3.   1.   2.   4.   1.]\n",
      " [  2.  nan   3.   1.   4.]\n",
      " [  2.   5.   4.   3.   5.]\n",
      " [  4.   4.   5.   4.  nan]]\n",
      "[[ 2.6  1. ]\n",
      " [ 1.   1. ]\n",
      " [ 1.   1. ]\n",
      " [ 1.   1. ]\n",
      " [ 1.   1. ]]\n"
     ]
    }
   ],
   "source": [
    "## Building U:\n",
    "def build_U(M,U,V,r,s):\n",
    "    #Get the s row from V\n",
    "    V_s=V[s,:].copy()\n",
    "    #Get the r row from M\n",
    "    M_r=M[r,:].copy()\n",
    "    \n",
    "    #Get the r row from U\n",
    "    U_r = U[r,:].copy()\n",
    "    U_r[s] = 0\n",
    "    #Get the r col from V\n",
    "    V_r = V[:,r].copy()\n",
    "    V_r[s] = 0\n",
    "    print \"V_s:{}\".format(V_s)\n",
    "    print \"M_r:{}\".format(M_r)\n",
    "    print \"U_r:{}\".format(U_r)\n",
    "    print \"V_r:{}\".format(V_r)\n",
    "    M_r = M_r - np.dot(U_r,V_r)\n",
    "    V_s[np.isnan(M_r)] = 0\n",
    "    M_r[np.isnan(M_r)] = 0\n",
    "    \n",
    "    print \"M_r:{}\".format(M_r)\n",
    "    return np.dot(V_s,M_r)/np.dot(V_s,V_s) \n",
    "r=0\n",
    "s=0\n",
    "U[r,s] = build_U(M,U,V,r,s)\n",
    "print M    \n",
    "print U"
   ]
  },
  {
   "cell_type": "code",
   "execution_count": 115,
   "metadata": {
    "collapsed": false
   },
   "outputs": [
    {
     "name": "stdout",
     "output_type": "stream",
     "text": [
      "V_s:[ 0.  1.]\n",
      "M_s:[ 5.  3.  2.  2.  4.]\n",
      "U_r:[ 2.6  1.   1.   1.   1. ]\n",
      "U_s:[ 0.  1.]\n",
      "M_s:[ 4.  2.  1.  1.  3.]\n",
      "[[  5.   2.   4.   4.   3.]\n",
      " [  3.   1.   2.   4.   1.]\n",
      " [  2.  nan   3.   1.   4.]\n",
      " [  2.   5.   4.   3.   5.]\n",
      " [  4.   4.   5.   4.  nan]]\n",
      "[[ 1.61710037  1.          1.          1.          1.        ]\n",
      " [ 1.          1.          1.          1.          1.        ]]\n"
     ]
    }
   ],
   "source": [
    "## Building V:\n",
    "def build_V(M,U,V,r,s):\n",
    "    #Get the r col from U\n",
    "    U_r=U[:,r].copy()\n",
    "    #Get the s col from M\n",
    "    M_s=M[:,s].copy()\n",
    "        \n",
    "    #Get the s col from V\n",
    "    V_s = V[:,s].copy()\n",
    "    V_s[r] = 0\n",
    "    #Get the s row from U\n",
    "    U_s = U[r,:].copy()\n",
    "    U_s[r] = 0\n",
    "    print \"V_s:{}\".format(V_s)\n",
    "    print \"M_s:{}\".format(M_s)\n",
    "    print \"U_r:{}\".format(U_r)\n",
    "    print \"U_s:{}\".format(U_s)\n",
    "    M_s = M_s - np.dot(V_s,U_s)\n",
    "    U_r[np.isnan(M_s)] = 0\n",
    "    M_s[np.isnan(M_s)] = 0\n",
    "    \n",
    "    print \"M_s:{}\".format(M_s)\n",
    "    return np.dot(U_r,M_s)/np.dot(U_r,U_r) \n",
    "r=0\n",
    "s=0\n",
    "V[r,s] = build_V(M,U,V,r,s)\n",
    "print M    \n",
    "print V"
   ]
  },
  {
   "cell_type": "code",
   "execution_count": 119,
   "metadata": {
    "collapsed": false
   },
   "outputs": [
    {
     "name": "stdout",
     "output_type": "stream",
     "text": [
      "V_s:[ 1.61710037  1.          1.          1.          1.        ]\n",
      "M_r:[  2.  nan   3.   1.   4.]\n",
      "U_r:[ 0.  1.]\n",
      "V_r:[ 0.  1.]\n",
      "M_r:[ 1.  0.  2.  0.  3.]\n"
     ]
    }
   ],
   "source": [
    "r=2\n",
    "s=0\n",
    "U[r,s]=build_U(M,U,V,r,s)\n",
    "#print M    \n",
    "#print V"
   ]
  },
  {
   "cell_type": "code",
   "execution_count": 120,
   "metadata": {
    "collapsed": false
   },
   "outputs": [
    {
     "data": {
      "text/plain": [
       "array([[ 1.61710037,  1.        ,  1.        ,  1.        ,  1.        ],\n",
       "       [ 1.        ,  1.        ,  1.        ,  1.        ,  1.        ]])"
      ]
     },
     "execution_count": 120,
     "metadata": {},
     "output_type": "execute_result"
    }
   ],
   "source": [
    "V"
   ]
  },
  {
   "cell_type": "code",
   "execution_count": 121,
   "metadata": {
    "collapsed": false
   },
   "outputs": [
    {
     "data": {
      "text/plain": [
       "array([[ 2.6      ,  1.       ],\n",
       "       [ 1.       ,  1.       ],\n",
       "       [ 1.1784656,  1.       ],\n",
       "       [ 1.       ,  1.       ],\n",
       "       [ 1.       ,  1.       ]])"
      ]
     },
     "execution_count": 121,
     "metadata": {},
     "output_type": "execute_result"
    }
   ],
   "source": [
    "U"
   ]
  },
  {
   "cell_type": "code",
   "execution_count": 122,
   "metadata": {
    "collapsed": false
   },
   "outputs": [
    {
     "data": {
      "text/plain": [
       "array([[ 5.20446097,  3.6       ,  3.6       ,  3.6       ,  3.6       ],\n",
       "       [ 2.61710037,  2.        ,  2.        ,  2.        ,  2.        ],\n",
       "       [ 2.90569716,  2.1784656 ,  2.1784656 ,  2.1784656 ,  2.1784656 ],\n",
       "       [ 2.61710037,  2.        ,  2.        ,  2.        ,  2.        ],\n",
       "       [ 2.61710037,  2.        ,  2.        ,  2.        ,  2.        ]])"
      ]
     },
     "execution_count": 122,
     "metadata": {},
     "output_type": "execute_result"
    }
   ],
   "source": [
    "np.matmul(U,V)"
   ]
  },
  {
   "cell_type": "code",
   "execution_count": 8,
   "metadata": {
    "collapsed": false
   },
   "outputs": [
    {
     "data": {
      "text/plain": [
       "array([[  5.,   2.,   4.,   4.,   3.],\n",
       "       [  3.,   1.,   2.,   4.,   1.],\n",
       "       [  2.,  nan,   3.,   1.,   4.],\n",
       "       [  2.,   5.,   4.,   3.,   5.],\n",
       "       [  4.,   4.,   5.,   4.,  nan]])"
      ]
     },
     "execution_count": 8,
     "metadata": {},
     "output_type": "execute_result"
    }
   ],
   "source": [
    "M"
   ]
  },
  {
   "cell_type": "code",
   "execution_count": 27,
   "metadata": {
    "collapsed": false
   },
   "outputs": [],
   "source": [
    "#np.linalg.pinv(np.dot(V,V.T))\n",
    "def array_sq(l):\n",
    "    return np.dot(l,l.T)\n",
    "np.apply_along_axis(array_sq,1,V)\n",
    "\n",
    "def build_U(M,U,V,reg,d):\n",
    "    M_rows,M_columns = M.shape\n",
    "    \n",
    "    for i in xrange(M_rows):\n",
    "        temp_1 = np.dot(V.T,V)+reg*np.eye(d)\n",
    "        temp_1 = np.linalg.pinv(temp_1)\n",
    "        temp_2 = np.dot(M[i,],V)\n",
    "        U[i,] = np.dot(temp_2,temp_1)\n",
    "        print U[i,]"
   ]
  },
  {
   "cell_type": "code",
   "execution_count": 51,
   "metadata": {
    "collapsed": false
   },
   "outputs": [
    {
     "data": {
      "text/plain": [
       "2.0"
      ]
     },
     "execution_count": 51,
     "metadata": {},
     "output_type": "execute_result"
    }
   ],
   "source": [
    "Unp.dot(U[1,:],V[:,1])\n",
    "\n"
   ]
  },
  {
   "cell_type": "code",
   "execution_count": 28,
   "metadata": {
    "collapsed": false
   },
   "outputs": [
    {
     "data": {
      "text/plain": [
       "array([[ 1.,  1.],\n",
       "       [ 1.,  1.],\n",
       "       [ 1.,  1.],\n",
       "       [ 1.,  1.],\n",
       "       [ 1.,  1.]])"
      ]
     },
     "execution_count": 28,
     "metadata": {},
     "output_type": "execute_result"
    }
   ],
   "source": [
    "V"
   ]
  },
  {
   "cell_type": "code",
   "execution_count": 29,
   "metadata": {
    "collapsed": false
   },
   "outputs": [
    {
     "name": "stdout",
     "output_type": "stream",
     "text": [
      "[ 1.8  1.8]\n",
      "[ 1.1  1.1]\n",
      "[ nan  nan]\n",
      "[ 1.9  1.9]\n",
      "[ nan  nan]\n"
     ]
    }
   ],
   "source": [
    "build_U(M,U,V,0,2)"
   ]
  },
  {
   "cell_type": "code",
   "execution_count": null,
   "metadata": {
    "collapsed": true
   },
   "outputs": [],
   "source": []
  }
 ],
 "metadata": {
  "anaconda-cloud": {},
  "kernelspec": {
   "display_name": "Python 2",
   "language": "python",
   "name": "python2"
  },
  "language_info": {
   "codemirror_mode": {
    "name": "ipython",
    "version": 2
   },
   "file_extension": ".py",
   "mimetype": "text/x-python",
   "name": "python",
   "nbconvert_exporter": "python",
   "pygments_lexer": "ipython2",
   "version": "2.7.13"
  }
 },
 "nbformat": 4,
 "nbformat_minor": 0
}
